{
 "cells": [
  {
   "cell_type": "markdown",
   "metadata": {},
   "source": [
    "### Build a CNN model to classify fashion items\n",
    "\n",
    "This notebook steps through how to implement an image recognition model using a convolutional network. It starts with a basic CNN architecture to classify fashion from the Fashion MNIST data set found here: https://github.com/zalandoresearch/fashion-mnist. The data set consists of images (28*28 in size) in 10 different categories. There are 60,000 images for training and 10,000 images for testing. There are optional steps in the notebook to demonstrate use of more advanced network features. \n",
    "    \n",
    "The model is built using Tensorflow and Keras and assumes you are running on a Databricks cluster and machine learning libraries have been pre-installed. \n",
    "\n",
    "This notebook is adapted from work published here: \n",
    "   (1) https://github.com/amynic/azureml-sdk-fashion and \n",
    "   (2) https://github.com/Microsoft/CNTK/tree/v2.0/Tutorials."
   ]
  },
  {
   "cell_type": "markdown",
   "metadata": {},
   "source": [
    "### Import core libraries and specify tensorflow and keras"
   ]
  },
  {
   "cell_type": "code",
   "execution_count": 1,
   "metadata": {
    "collapsed": false,
    "jupyter": {
     "outputs_hidden": false
    }
   },
   "outputs": [
    {
     "name": "stderr",
     "output_type": "stream",
     "text": [
      "/Users/gmarchetti/anaconda3/envs/dl/lib/python3.7/site-packages/tensorflow/python/framework/dtypes.py:516: FutureWarning: Passing (type, 1) or '1type' as a synonym of type is deprecated; in a future version of numpy, it will be understood as (type, (1,)) / '(1,)type'.\n",
      "  _np_qint8 = np.dtype([(\"qint8\", np.int8, 1)])\n",
      "/Users/gmarchetti/anaconda3/envs/dl/lib/python3.7/site-packages/tensorflow/python/framework/dtypes.py:517: FutureWarning: Passing (type, 1) or '1type' as a synonym of type is deprecated; in a future version of numpy, it will be understood as (type, (1,)) / '(1,)type'.\n",
      "  _np_quint8 = np.dtype([(\"quint8\", np.uint8, 1)])\n",
      "/Users/gmarchetti/anaconda3/envs/dl/lib/python3.7/site-packages/tensorflow/python/framework/dtypes.py:518: FutureWarning: Passing (type, 1) or '1type' as a synonym of type is deprecated; in a future version of numpy, it will be understood as (type, (1,)) / '(1,)type'.\n",
      "  _np_qint16 = np.dtype([(\"qint16\", np.int16, 1)])\n",
      "/Users/gmarchetti/anaconda3/envs/dl/lib/python3.7/site-packages/tensorflow/python/framework/dtypes.py:519: FutureWarning: Passing (type, 1) or '1type' as a synonym of type is deprecated; in a future version of numpy, it will be understood as (type, (1,)) / '(1,)type'.\n",
      "  _np_quint16 = np.dtype([(\"quint16\", np.uint16, 1)])\n",
      "/Users/gmarchetti/anaconda3/envs/dl/lib/python3.7/site-packages/tensorflow/python/framework/dtypes.py:520: FutureWarning: Passing (type, 1) or '1type' as a synonym of type is deprecated; in a future version of numpy, it will be understood as (type, (1,)) / '(1,)type'.\n",
      "  _np_qint32 = np.dtype([(\"qint32\", np.int32, 1)])\n",
      "/Users/gmarchetti/anaconda3/envs/dl/lib/python3.7/site-packages/tensorflow/python/framework/dtypes.py:525: FutureWarning: Passing (type, 1) or '1type' as a synonym of type is deprecated; in a future version of numpy, it will be understood as (type, (1,)) / '(1,)type'.\n",
      "  np_resource = np.dtype([(\"resource\", np.ubyte, 1)])\n",
      "/Users/gmarchetti/anaconda3/envs/dl/lib/python3.7/site-packages/tensorboard/compat/tensorflow_stub/dtypes.py:541: FutureWarning: Passing (type, 1) or '1type' as a synonym of type is deprecated; in a future version of numpy, it will be understood as (type, (1,)) / '(1,)type'.\n",
      "  _np_qint8 = np.dtype([(\"qint8\", np.int8, 1)])\n",
      "/Users/gmarchetti/anaconda3/envs/dl/lib/python3.7/site-packages/tensorboard/compat/tensorflow_stub/dtypes.py:542: FutureWarning: Passing (type, 1) or '1type' as a synonym of type is deprecated; in a future version of numpy, it will be understood as (type, (1,)) / '(1,)type'.\n",
      "  _np_quint8 = np.dtype([(\"quint8\", np.uint8, 1)])\n",
      "/Users/gmarchetti/anaconda3/envs/dl/lib/python3.7/site-packages/tensorboard/compat/tensorflow_stub/dtypes.py:543: FutureWarning: Passing (type, 1) or '1type' as a synonym of type is deprecated; in a future version of numpy, it will be understood as (type, (1,)) / '(1,)type'.\n",
      "  _np_qint16 = np.dtype([(\"qint16\", np.int16, 1)])\n",
      "/Users/gmarchetti/anaconda3/envs/dl/lib/python3.7/site-packages/tensorboard/compat/tensorflow_stub/dtypes.py:544: FutureWarning: Passing (type, 1) or '1type' as a synonym of type is deprecated; in a future version of numpy, it will be understood as (type, (1,)) / '(1,)type'.\n",
      "  _np_quint16 = np.dtype([(\"quint16\", np.uint16, 1)])\n",
      "/Users/gmarchetti/anaconda3/envs/dl/lib/python3.7/site-packages/tensorboard/compat/tensorflow_stub/dtypes.py:545: FutureWarning: Passing (type, 1) or '1type' as a synonym of type is deprecated; in a future version of numpy, it will be understood as (type, (1,)) / '(1,)type'.\n",
      "  _np_qint32 = np.dtype([(\"qint32\", np.int32, 1)])\n",
      "/Users/gmarchetti/anaconda3/envs/dl/lib/python3.7/site-packages/tensorboard/compat/tensorflow_stub/dtypes.py:550: FutureWarning: Passing (type, 1) or '1type' as a synonym of type is deprecated; in a future version of numpy, it will be understood as (type, (1,)) / '(1,)type'.\n",
      "  np_resource = np.dtype([(\"resource\", np.ubyte, 1)])\n"
     ]
    },
    {
     "name": "stdout",
     "output_type": "stream",
     "text": [
      "tensorflow Version is: 1.14.0\n"
     ]
    },
    {
     "name": "stderr",
     "output_type": "stream",
     "text": [
      "Using TensorFlow backend.\n"
     ]
    },
    {
     "name": "stdout",
     "output_type": "stream",
     "text": [
      "tensorflow\n"
     ]
    }
   ],
   "source": [
    "import tensorflow as tf\n",
    "import os\n",
    "import time\n",
    "os.environ[\"TF_CPP_MIN_LOG_LEVEL\"]= \"2\"\n",
    "print(\"tensorflow Version is: \" + str(tf.__version__))\n",
    "\n",
    "import numpy as np\n",
    "os.environ['KERAS_BACKEND'] = 'tensorflow'\n",
    "\n",
    "from keras import backend as K\n",
    "print(os.environ['KERAS_BACKEND'])"
   ]
  },
  {
   "cell_type": "code",
   "execution_count": 2,
   "metadata": {},
   "outputs": [],
   "source": [
    "# Import the required Keras functions that will be used to create the CNN\n",
    "from keras.datasets import fashion_mnist\n",
    "from keras.models import Sequential\n",
    "from keras.layers import Dense, Dropout, Flatten\n",
    "from keras.layers import Conv2D, MaxPooling2D\n",
    "from keras import utils, losses, optimizers\n",
    "from IPython.display import SVG\n",
    "from keras.utils.vis_utils import model_to_dot\n",
    "import matplotlib.pyplot as plt"
   ]
  },
  {
   "cell_type": "markdown",
   "metadata": {},
   "source": [
    "### Set random seed\n",
    "This is important for reproducibility of results "
   ]
  },
  {
   "cell_type": "code",
   "execution_count": 3,
   "metadata": {},
   "outputs": [],
   "source": [
    "np.random.seed(42)\n",
    "tf.set_random_seed(42)"
   ]
  },
  {
   "cell_type": "markdown",
   "metadata": {},
   "source": [
    "### Load the Fashion MNIST data set and visualize an image\n",
    "\n",
    "The fasion MNIST data set is included with the Keras library so we need to pull it into a training and test datasets. Each image is associated with a label from 1 of 10 classifications: \n",
    "  * Label 0: T-shirt/top\n",
    "  * Label 1: Trouser \n",
    "  * Label 2: Pullover \n",
    "  * Label 3: Dress \n",
    "  * Label 4: Coat \n",
    "  * Label 5: Sandal \n",
    "  * Label 6: Shirt \n",
    "  * Label 7: Sneaker \n",
    "  * Label 8: Bag \n",
    "  * Label 9: Ankle boot"
   ]
  },
  {
   "cell_type": "code",
   "execution_count": 4,
   "metadata": {},
   "outputs": [
    {
     "name": "stdout",
     "output_type": "stream",
     "text": [
      "(60000, 28, 28) train set\n",
      "(10000, 28, 28) test set\n"
     ]
    }
   ],
   "source": [
    "# Data for training and testing\n",
    "(x_train, y_train), (x_test, y_test) = fashion_mnist.load_data()\n",
    "\n",
    "print(x_train.shape, 'train set')\n",
    "print(x_test.shape, 'test set')\n",
    "\n",
    "# Define the text labels\n",
    "fashion_mnist_labels = [\"Top\",          # index 0\n",
    "                        \"Trouser\",      # index 1\n",
    "                        \"Jumper\",       # index 2 \n",
    "                        \"Dress\",        # index 3 \n",
    "                        \"Coat\",         # index 4\n",
    "                        \"Sandal\",       # index 5\n",
    "                        \"Shirt\",        # index 6 \n",
    "                        \"Trainer\",      # index 7 \n",
    "                        \"Bag\",          # index 8 \n",
    "                        \"Ankle boot\"]   # index 9\n",
    "\n"
   ]
  },
  {
   "cell_type": "code",
   "execution_count": 5,
   "metadata": {},
   "outputs": [
    {
     "data": {
      "image/png": "[encoded data removed]",
      "text/plain": [
       "<Figure size 432x288 with 1 Axes>"
      ]
     },
     "metadata": {
      "needs_background": "light"
     },
     "output_type": "display_data"
    }
   ],
   "source": [
    "# Visualize an image. To visualize a different image, set the index to any value between 0-59999\n",
    "img_index=8\n",
    "\n",
    "# Display an image from the data set\n",
    "label_index = y_train[img_index]\n",
    "plt.imshow(x_train[img_index])\n",
    "plt.title(fashion_mnist_labels[label_index])\n",
    " \n",
    "display()"
   ]
  },
  {
   "cell_type": "markdown",
   "metadata": {},
   "source": [
    "### Normalize and prepare the data\n",
    "\n",
    "The data set is loaded into memory and will be normalized so the pixel values in each image range between 0-1 instead of 0-255 pixels. This will help the model converge faster because it is working with smaller numbers.\n",
    "\n",
    "In this section we also one-hot encode the labels for each image. This is done so the model does not treat the label (fashion category) with an implied numeric ranking. For instance, T-Shirts are labeled '0' and Sneakers are labeled '7'. We don't want the model to interpret these values with any numeric ranking. An array will be created and each image will be represented in the array with a '1' corresponding to its label. For instance, an image with an array that looks like this: array([0,0,0,0,0,0,0,0,0,1]) means the image label corresponds to the 9th index which is 'ankle boots'."
   ]
  },
  {
   "cell_type": "code",
   "execution_count": 6,
   "metadata": {},
   "outputs": [
    {
     "name": "stdout",
     "output_type": "stream",
     "text": [
      "[9 2 1 ... 8 1 5]\n"
     ]
    }
   ],
   "source": [
    "# Set number of categories\n",
    "num_classes = 10\n",
    "\n",
    "# Set image input dimensions \n",
    "img_rows,img_cols = 28,28\n",
    "\n",
    "# Reshape the array without changing the data.  \n",
    "# Parameters = number of elements in the input array, the new shape (28*28) \n",
    "x_train = x_train.reshape(60000, img_rows, img_cols, 1)\n",
    "x_test = x_test.reshape(10000, img_rows, img_cols, 1)\n",
    "\n",
    "# Type convert and scale the data\n",
    "x_train = x_train.astype('float32')\n",
    "x_test = x_test.astype('float32')\n",
    "x_train /= 255\n",
    "x_test /= 255\n",
    "\n",
    "# Save the labels for the confusion matrix later\n",
    "test_labels = y_test\n",
    "print(test_labels)\n",
    "\n",
    "# One-hot encoding of images\n",
    "# This creates an array equal to the number of labels (fashion categories).  Each image\n",
    "# is represented in the vector with a 1 corresponding to it's label.  \n",
    "y_train = utils.to_categorical(y_train, num_classes)\n",
    "y_test = utils.to_categorical(y_test, num_classes)\n"
   ]
  },
  {
   "cell_type": "markdown",
   "metadata": {},
   "source": [
    "### Define the CNN network architecture\n",
    "We will use the sequential API and compile the model with a common algorithm and loss metric.\n",
    "\n",
    "After running through the experiment, consider coming back to this section and changing some of the parameters, re-run the code, and see how the model and accuracy change."
   ]
  },
  {
   "cell_type": "code",
   "execution_count": 7,
   "metadata": {
    "collapsed": false,
    "jupyter": {
     "outputs_hidden": false
    }
   },
   "outputs": [
    {
     "name": "stdout",
     "output_type": "stream",
     "text": [
      "WARNING:tensorflow:From /Users/gmarchetti/anaconda3/envs/dl/lib/python3.7/site-packages/keras/backend/tensorflow_backend.py:74: The name tf.get_default_graph is deprecated. Please use tf.compat.v1.get_default_graph instead.\n",
      "\n",
      "WARNING:tensorflow:From /Users/gmarchetti/anaconda3/envs/dl/lib/python3.7/site-packages/keras/backend/tensorflow_backend.py:517: The name tf.placeholder is deprecated. Please use tf.compat.v1.placeholder instead.\n",
      "\n",
      "WARNING:tensorflow:From /Users/gmarchetti/anaconda3/envs/dl/lib/python3.7/site-packages/keras/backend/tensorflow_backend.py:4138: The name tf.random_uniform is deprecated. Please use tf.random.uniform instead.\n",
      "\n",
      "WARNING:tensorflow:From /Users/gmarchetti/anaconda3/envs/dl/lib/python3.7/site-packages/keras/backend/tensorflow_backend.py:3976: The name tf.nn.max_pool is deprecated. Please use tf.nn.max_pool2d instead.\n",
      "\n",
      "WARNING:tensorflow:From /Users/gmarchetti/anaconda3/envs/dl/lib/python3.7/site-packages/keras/optimizers.py:790: The name tf.train.Optimizer is deprecated. Please use tf.compat.v1.train.Optimizer instead.\n",
      "\n",
      "WARNING:tensorflow:From /Users/gmarchetti/anaconda3/envs/dl/lib/python3.7/site-packages/keras/backend/tensorflow_backend.py:3295: The name tf.log is deprecated. Please use tf.math.log instead.\n",
      "\n",
      "_________________________________________________________________\n",
      "Layer (type)                 Output Shape              Param #   \n",
      "=================================================================\n",
      "conv2d_1 (Conv2D)            (None, 26, 26, 64)        640       \n",
      "_________________________________________________________________\n",
      "max_pooling2d_1 (MaxPooling2 (None, 13, 13, 64)        0         \n",
      "_________________________________________________________________\n",
      "conv2d_2 (Conv2D)            (None, 11, 11, 64)        36928     \n",
      "_________________________________________________________________\n",
      "max_pooling2d_2 (MaxPooling2 (None, 5, 5, 64)          0         \n",
      "_________________________________________________________________\n",
      "flatten_1 (Flatten)          (None, 1600)              0         \n",
      "_________________________________________________________________\n",
      "dense_1 (Dense)              (None, 128)               204928    \n",
      "_________________________________________________________________\n",
      "dense_2 (Dense)              (None, 10)                1290      \n",
      "=================================================================\n",
      "Total params: 243,786\n",
      "Trainable params: 243,786\n",
      "Non-trainable params: 0\n",
      "_________________________________________________________________\n"
     ]
    }
   ],
   "source": [
    "#First, set some parameters\n",
    "\n",
    "num_classes = 10\n",
    "\n",
    "# Sample size that will be processed independently, in parallel\n",
    "batch_size = 256\n",
    "\n",
    "# Define the CNN model as a sequential model. \n",
    "# Every layer passes data forward to the next layer in the network. \n",
    "model = Sequential()\n",
    "\n",
    "# First convolutional layer uses the kernels/filters to extract features to pass to the next layer.\n",
    "model.add(Conv2D(64, kernel_size=(3,3), activation = 'relu', input_shape=(28,28,1)))\n",
    "\n",
    "# Pooling layer reduces dimensionality, helps to avoid overfitting\n",
    "model.add(MaxPooling2D(pool_size=(2,2)))\n",
    "\n",
    "model.add(Conv2D(64, kernel_size=(3,3), activation = 'relu'))\n",
    "model.add(MaxPooling2D(pool_size=(2,2)))\n",
    "\n",
    "model.add(Flatten())\n",
    "model.add(Dense(128, activation='relu'))\n",
    "\n",
    "#model.add(Dropout(0.5))\n",
    "\n",
    "# Add a final, fully connected layer. Image will be classified into one of the 10 fashion classes.  \n",
    "model.add(Dense(num_classes, activation='softmax'))\n",
    "\n",
    "model.compile(loss=losses.categorical_crossentropy,\n",
    "              optimizer=optimizers.Adam(),\n",
    "              metrics=['accuracy'])\n",
    "\n",
    "# Verify model architecture is as expected\n",
    "model.summary()\n"
   ]
  },
  {
   "cell_type": "markdown",
   "metadata": {},
   "source": [
    "### Display the model structure"
   ]
  },
  {
   "cell_type": "code",
   "execution_count": 8,
   "metadata": {},
   "outputs": [
    {
     "data": {
      "image/svg+xml": [
       "<svg height=\"556pt\" viewBox=\"0.00 0.00 220.00 556.00\" width=\"220pt\" xmlns=\"http://www.w3.org/2000/svg\" xmlns:xlink=\"http://www.w3.org/1999/xlink\">\n",
       "<g class=\"graph\" id=\"graph0\" transform=\"scale(1 1) rotate(0) translate(4 552)\">\n",
       "<title>G</title>\n",
       "<polygon fill=\"#ffffff\" points=\"-4,4 -4,-552 216,-552 216,4 -4,4\" stroke=\"transparent\"/>\n",
       "<!-- 26905024272 -->\n",
       "<g class=\"node\" id=\"node1\">\n",
       "<title>26905024272</title>\n",
       "<polygon fill=\"none\" points=\"42.5,-438.5 42.5,-474.5 169.5,-474.5 169.5,-438.5 42.5,-438.5\" stroke=\"#000000\"/>\n",
       "<text fill=\"#000000\" font-family=\"Times,serif\" font-size=\"14.00\" text-anchor=\"middle\" x=\"106\" y=\"-452.8\">conv2d_1: Conv2D</text>\n",
       "</g>\n",
       "<!-- 26964723280 -->\n",
       "<g class=\"node\" id=\"node2\">\n",
       "<title>26964723280</title>\n",
       "<polygon fill=\"none\" points=\"0,-365.5 0,-401.5 212,-401.5 212,-365.5 0,-365.5\" stroke=\"#000000\"/>\n",
       "<text fill=\"#000000\" font-family=\"Times,serif\" font-size=\"14.00\" text-anchor=\"middle\" x=\"106\" y=\"-379.8\">max_pooling2d_1: MaxPooling2D</text>\n",
       "</g>\n",
       "<!-- 26905024272&#45;&gt;26964723280 -->\n",
       "<g class=\"edge\" id=\"edge2\">\n",
       "<title>26905024272-&gt;26964723280</title>\n",
       "<path d=\"M106,-438.4551C106,-430.3828 106,-420.6764 106,-411.6817\" fill=\"none\" stroke=\"#000000\"/>\n",
       "<polygon fill=\"#000000\" points=\"109.5001,-411.5903 106,-401.5904 102.5001,-411.5904 109.5001,-411.5903\" stroke=\"#000000\"/>\n",
       "</g>\n",
       "<!-- 26963830864 -->\n",
       "<g class=\"node\" id=\"node3\">\n",
       "<title>26963830864</title>\n",
       "<polygon fill=\"none\" points=\"42.5,-292.5 42.5,-328.5 169.5,-328.5 169.5,-292.5 42.5,-292.5\" stroke=\"#000000\"/>\n",
       "<text fill=\"#000000\" font-family=\"Times,serif\" font-size=\"14.00\" text-anchor=\"middle\" x=\"106\" y=\"-306.8\">conv2d_2: Conv2D</text>\n",
       "</g>\n",
       "<!-- 26964723280&#45;&gt;26963830864 -->\n",
       "<g class=\"edge\" id=\"edge3\">\n",
       "<title>26964723280-&gt;26963830864</title>\n",
       "<path d=\"M106,-365.4551C106,-357.3828 106,-347.6764 106,-338.6817\" fill=\"none\" stroke=\"#000000\"/>\n",
       "<polygon fill=\"#000000\" points=\"109.5001,-338.5903 106,-328.5904 102.5001,-338.5904 109.5001,-338.5903\" stroke=\"#000000\"/>\n",
       "</g>\n",
       "<!-- 26964774224 -->\n",
       "<g class=\"node\" id=\"node4\">\n",
       "<title>26964774224</title>\n",
       "<polygon fill=\"none\" points=\"0,-219.5 0,-255.5 212,-255.5 212,-219.5 0,-219.5\" stroke=\"#000000\"/>\n",
       "<text fill=\"#000000\" font-family=\"Times,serif\" font-size=\"14.00\" text-anchor=\"middle\" x=\"106\" y=\"-233.8\">max_pooling2d_2: MaxPooling2D</text>\n",
       "</g>\n",
       "<!-- 26963830864&#45;&gt;26964774224 -->\n",
       "<g class=\"edge\" id=\"edge4\">\n",
       "<title>26963830864-&gt;26964774224</title>\n",
       "<path d=\"M106,-292.4551C106,-284.3828 106,-274.6764 106,-265.6817\" fill=\"none\" stroke=\"#000000\"/>\n",
       "<polygon fill=\"#000000\" points=\"109.5001,-265.5903 106,-255.5904 102.5001,-265.5904 109.5001,-265.5903\" stroke=\"#000000\"/>\n",
       "</g>\n",
       "<!-- 26905244496 -->\n",
       "<g class=\"node\" id=\"node5\">\n",
       "<title>26905244496</title>\n",
       "<polygon fill=\"none\" points=\"50,-146.5 50,-182.5 162,-182.5 162,-146.5 50,-146.5\" stroke=\"#000000\"/>\n",
       "<text fill=\"#000000\" font-family=\"Times,serif\" font-size=\"14.00\" text-anchor=\"middle\" x=\"106\" y=\"-160.8\">flatten_1: Flatten</text>\n",
       "</g>\n",
       "<!-- 26964774224&#45;&gt;26905244496 -->\n",
       "<g class=\"edge\" id=\"edge5\">\n",
       "<title>26964774224-&gt;26905244496</title>\n",
       "<path d=\"M106,-219.4551C106,-211.3828 106,-201.6764 106,-192.6817\" fill=\"none\" stroke=\"#000000\"/>\n",
       "<polygon fill=\"#000000\" points=\"109.5001,-192.5903 106,-182.5904 102.5001,-192.5904 109.5001,-192.5903\" stroke=\"#000000\"/>\n",
       "</g>\n",
       "<!-- 4523433104 -->\n",
       "<g class=\"node\" id=\"node6\">\n",
       "<title>4523433104</title>\n",
       "<polygon fill=\"none\" points=\"53.5,-73.5 53.5,-109.5 158.5,-109.5 158.5,-73.5 53.5,-73.5\" stroke=\"#000000\"/>\n",
       "<text fill=\"#000000\" font-family=\"Times,serif\" font-size=\"14.00\" text-anchor=\"middle\" x=\"106\" y=\"-87.8\">dense_1: Dense</text>\n",
       "</g>\n",
       "<!-- 26905244496&#45;&gt;4523433104 -->\n",
       "<g class=\"edge\" id=\"edge6\">\n",
       "<title>26905244496-&gt;4523433104</title>\n",
       "<path d=\"M106,-146.4551C106,-138.3828 106,-128.6764 106,-119.6817\" fill=\"none\" stroke=\"#000000\"/>\n",
       "<polygon fill=\"#000000\" points=\"109.5001,-119.5903 106,-109.5904 102.5001,-119.5904 109.5001,-119.5903\" stroke=\"#000000\"/>\n",
       "</g>\n",
       "<!-- 4523367248 -->\n",
       "<g class=\"node\" id=\"node7\">\n",
       "<title>4523367248</title>\n",
       "<polygon fill=\"none\" points=\"53.5,-.5 53.5,-36.5 158.5,-36.5 158.5,-.5 53.5,-.5\" stroke=\"#000000\"/>\n",
       "<text fill=\"#000000\" font-family=\"Times,serif\" font-size=\"14.00\" text-anchor=\"middle\" x=\"106\" y=\"-14.8\">dense_2: Dense</text>\n",
       "</g>\n",
       "<!-- 4523433104&#45;&gt;4523367248 -->\n",
       "<g class=\"edge\" id=\"edge7\">\n",
       "<title>4523433104-&gt;4523367248</title>\n",
       "<path d=\"M106,-73.4551C106,-65.3828 106,-55.6764 106,-46.6817\" fill=\"none\" stroke=\"#000000\"/>\n",
       "<polygon fill=\"#000000\" points=\"109.5001,-46.5903 106,-36.5904 102.5001,-46.5904 109.5001,-46.5903\" stroke=\"#000000\"/>\n",
       "</g>\n",
       "<!-- 26964686416 -->\n",
       "<g class=\"node\" id=\"node8\">\n",
       "<title>26964686416</title>\n",
       "<polygon fill=\"none\" points=\"59,-511.5 59,-547.5 153,-547.5 153,-511.5 59,-511.5\" stroke=\"#000000\"/>\n",
       "<text fill=\"#000000\" font-family=\"Times,serif\" font-size=\"14.00\" text-anchor=\"middle\" x=\"106\" y=\"-525.8\">26964686416</text>\n",
       "</g>\n",
       "<!-- 26964686416&#45;&gt;26905024272 -->\n",
       "<g class=\"edge\" id=\"edge1\">\n",
       "<title>26964686416-&gt;26905024272</title>\n",
       "<path d=\"M106,-511.4551C106,-503.3828 106,-493.6764 106,-484.6817\" fill=\"none\" stroke=\"#000000\"/>\n",
       "<polygon fill=\"#000000\" points=\"109.5001,-484.5903 106,-474.5904 102.5001,-484.5904 109.5001,-484.5903\" stroke=\"#000000\"/>\n",
       "</g>\n",
       "</g>\n",
       "</svg>"
      ],
      "text/plain": [
       "<IPython.core.display.SVG object>"
      ]
     },
     "execution_count": 8,
     "metadata": {},
     "output_type": "execute_result"
    }
   ],
   "source": [
    "SVG(model_to_dot(model).create(prog='dot', format='svg'))"
   ]
  },
  {
   "cell_type": "markdown",
   "metadata": {},
   "source": [
    "### Train the model\n",
    "To train the model, use the fit() method in Keras. This code compiles the CNN model, assigns a common optimizer and loss function and identifies the output metrics to be shown.   \n",
    "A timer is started to show how long the model takes to run. The test data set is passed in as the validation set so we can see how the accuracy differs between the training set and the validation set."
   ]
  },
  {
   "cell_type": "code",
   "execution_count": null,
   "metadata": {
    "collapsed": false,
    "jupyter": {
     "outputs_hidden": false
    }
   },
   "outputs": [
    {
     "name": "stdout",
     "output_type": "stream",
     "text": [
      "WARNING:tensorflow:From /Users/gmarchetti/anaconda3/envs/dl/lib/python3.7/site-packages/tensorflow/python/ops/math_grad.py:1250: add_dispatch_support.<locals>.wrapper (from tensorflow.python.ops.array_ops) is deprecated and will be removed in a future version.\n",
      "Instructions for updating:\n",
      "Use tf.where in 2.0, which has the same broadcast rule as np.where\n",
      "WARNING:tensorflow:From /Users/gmarchetti/anaconda3/envs/dl/lib/python3.7/site-packages/keras/backend/tensorflow_backend.py:986: The name tf.assign_add is deprecated. Please use tf.compat.v1.assign_add instead.\n",
      "\n",
      "Epoch 1/6\n"
     ]
    }
   ],
   "source": [
    "# Train the model and return loss and accuracy for each epoch\n",
    "\n",
    "# The number of training passes\n",
    "epochs = 6\n",
    "\n",
    "# Batch size is the sample size that will be processed independently, in parallel\n",
    "batch_size = 256\n",
    "\n",
    "start = time.time()\n",
    "hist = model.fit(x_train, y_train, \n",
    "                  batch_size=batch_size, \n",
    "                  epochs=epochs, verbose=1)\n",
    "end = time.time()"
   ]
  },
  {
   "cell_type": "code",
   "execution_count": 24,
   "metadata": {},
   "outputs": [
    {
     "name": "stdout",
     "output_type": "stream",
     "text": [
      "Time to train model (sec):  81.00367903709412\n"
     ]
    }
   ],
   "source": [
    "# Print how long it took to train the  model\n",
    "print('Time to train model (sec): ', (end-start))"
   ]
  },
  {
   "cell_type": "markdown",
   "metadata": {},
   "source": [
    "### Score the model"
   ]
  },
  {
   "cell_type": "code",
   "execution_count": 25,
   "metadata": {},
   "outputs": [
    {
     "name": "stdout",
     "output_type": "stream",
     "text": [
      "Test Loss:  0.29210615758895875\n",
      "Test Accuracy:  0.8959\n"
     ]
    }
   ],
   "source": [
    "# Evaluate the model on the test data\n",
    "score = model.evaluate(x_test, y_test, verbose=0)\n",
    "print('Test Loss: ', score[0])\n",
    "print('Test Accuracy: ', score[1])"
   ]
  },
  {
   "cell_type": "markdown",
   "metadata": {},
   "source": [
    "### Plot model evaluation metrics"
   ]
  },
  {
   "cell_type": "code",
   "execution_count": 28,
   "metadata": {
    "collapsed": false,
    "jupyter": {
     "outputs_hidden": false
    }
   },
   "outputs": [
    {
     "name": "stderr",
     "output_type": "stream",
     "text": [
      "No handles with labels found to put in legend.\n"
     ]
    },
    {
     "data": {
      "text/plain": [
       "<matplotlib.legend.Legend at 0x1a1bb61be0>"
      ]
     },
     "execution_count": 28,
     "metadata": {},
     "output_type": "execute_result"
    },
    {
     "data": {
      "image/png": "[encoded data removed]",
      "text/plain": [
       "<Figure size 432x288 with 1 Axes>"
      ]
     },
     "metadata": {
      "needs_background": "light"
     },
     "output_type": "display_data"
    }
   ],
   "source": [
    "# Plot model accuracy across the epochs \n",
    "\n",
    "accuracy = hist.history['acc']\n",
    "\n",
    "epochs = range(len(accuracy))\n",
    "\n",
    "fig = plt.figure()\n",
    "plt.plot(epochs, accuracy, 'b-')\n",
    "plt.title('Training accuracy')\n",
    "plt.legend()\n",
    "\n",
    "#display(fig)"
   ]
  },
  {
   "cell_type": "code",
   "execution_count": 29,
   "metadata": {},
   "outputs": [
    {
     "name": "stderr",
     "output_type": "stream",
     "text": [
      "No handles with labels found to put in legend.\n"
     ]
    },
    {
     "data": {
      "text/plain": [
       "<matplotlib.legend.Legend at 0x1a495af710>"
      ]
     },
     "execution_count": 29,
     "metadata": {},
     "output_type": "execute_result"
    },
    {
     "data": {
      "image/png": "[encoded data removed]",
      "text/plain": [
       "<Figure size 432x288 with 1 Axes>"
      ]
     },
     "metadata": {
      "needs_background": "light"
     },
     "output_type": "display_data"
    }
   ],
   "source": [
    "# Plot model loss across the epochs\n",
    "\n",
    "loss = hist.history['loss']\n",
    "\n",
    "fig = plt.figure()\n",
    "plt.plot(epochs, loss, 'b-')\n",
    "plt.title('Training loss')\n",
    "plt.legend()\n",
    "\n",
    "#display(fig)"
   ]
  },
  {
   "cell_type": "markdown",
   "metadata": {},
   "source": [
    "### Predict labels for 15 images from test set"
   ]
  },
  {
   "cell_type": "code",
   "execution_count": 30,
   "metadata": {
    "collapsed": false,
    "jupyter": {
     "outputs_hidden": false
    }
   },
   "outputs": [
    {
     "data": {
      "image/png": "[encoded data removed]",
      "text/plain": [
       "<Figure size 1440x576 with 15 Axes>"
      ]
     },
     "metadata": {},
     "output_type": "display_data"
    }
   ],
   "source": [
    "# Run this code to see if the labels for each of 15 images was predicted correctly\n",
    "predictions = model.predict(x_test)\n",
    "\n",
    "# Plot a random sample of 15 test images, their predicted labels and ground truth\n",
    "figure = plt.figure(figsize=(20, 8))\n",
    "for i, index in enumerate(np.random.choice(x_test.shape[0], size=15, replace=False)):\n",
    "    ax = figure.add_subplot(3, 5, i + 1, xticks=[], yticks=[])\n",
    "    # Display each image\n",
    "    ax.imshow(np.squeeze(x_test[index]))\n",
    "    predict_index = np.argmax(predictions[index])\n",
    "    true_index = np.argmax(y_test[index])\n",
    "    # Set the title for each image\n",
    "    ax.set_title(\"{} ({})\".format(fashion_mnist_labels[predict_index], \n",
    "                                  fashion_mnist_labels[true_index]),\n",
    "                                  color=(\"green\" if predict_index == true_index else \"red\"))\n",
    "# Visualize in databricks\n",
    "display()"
   ]
  },
  {
   "cell_type": "markdown",
   "metadata": {},
   "source": [
    "### Create and plot a confusion matrix\n",
    "\n",
    "Confusion matrix will show how the predicted labels performed compared to the true labels."
   ]
  },
  {
   "cell_type": "code",
   "execution_count": 31,
   "metadata": {},
   "outputs": [],
   "source": [
    "# Import the libraries needed to create the confusion matrix\n",
    "\n",
    "from sklearn.metrics import confusion_matrix\n",
    "import itertools"
   ]
  },
  {
   "cell_type": "code",
   "execution_count": 32,
   "metadata": {},
   "outputs": [],
   "source": [
    "# The predictions are represented as explcit probabilities. For the confusion\n",
    "# matrix, present them as whole numbers\n",
    "rounded_predictions = model.predict_classes(x_test)\n",
    "\n",
    "#print(rounded_predictions)\n",
    "#print(test_labels)\n",
    "\n",
    "# Test labels were created in the data pre-processing step \n",
    "cm = confusion_matrix(test_labels, rounded_predictions)"
   ]
  },
  {
   "cell_type": "code",
   "execution_count": 33,
   "metadata": {},
   "outputs": [
    {
     "name": "stdout",
     "output_type": "stream",
     "text": [
      "Confusion matrix, without normalization\n"
     ]
    },
    {
     "data": {
      "image/png": "[encoded data removed]",
      "text/plain": [
       "<Figure size 432x288 with 2 Axes>"
      ]
     },
     "metadata": {
      "needs_background": "light"
     },
     "output_type": "display_data"
    }
   ],
   "source": [
    "# Confusion matrix code borrowed from here: \n",
    "# https://scikit-learn.org/stable/auto_examples/model_selection/plot_confusion_matrix.html\n",
    "\n",
    "def plot_confusion_matrix( cm, classes,\n",
    "                           normalize=False,\n",
    "                           title='Confusion matrix',\n",
    "                           cmap=plt.cm.Blues):\n",
    "  \n",
    "  # This function prints and plots the confusion matrix\n",
    " \n",
    "    plt.figure()\n",
    "    plt.imshow(cm, interpolation='nearest', cmap=cmap)\n",
    "    plt.title(title)\n",
    "    plt.colorbar()\n",
    "    tick_marks = np.arange(len(classes))\n",
    "    plt.xticks(tick_marks, classes, rotation=45)\n",
    "    plt.yticks(tick_marks, classes)\n",
    " \n",
    "    # If normalize, plot the raw numbers, otherwise plot the rounded numbers \n",
    "    if normalize:\n",
    "        cm = cm.astype('float') / cm.sum(axis=1)[:, np.newaxis]\n",
    "        print('Normalized confusion matrix')\n",
    "    else:\n",
    "        print(\"Confusion matrix, without normalization\")\n",
    "   \n",
    "    # Text prints out in white the number of true predictions and\n",
    "    # black for the number of false predictions  \n",
    "    thresh = cm.max() / 2.\n",
    "    for i, j in itertools.product(range(cm.shape[0]), range(cm.shape[1])):\n",
    "      plt.text(j, i, cm[i,j],\n",
    "        horizontalalignment=\"center\",\n",
    "        color=\"white\" if cm[i,j] > thresh else \"black\")\n",
    "             \n",
    "    plt.tight_layout()\n",
    "    plt.ylabel('True label')\n",
    "    plt.xlabel('Predicted label')           \n",
    "      \n",
    " \n",
    "cm_plot_labels = fashion_mnist_labels\n",
    "plot_confusion_matrix(cm, cm_plot_labels, title='Confusion Matrix')\n",
    "display()                           "
   ]
  },
  {
   "cell_type": "markdown",
   "metadata": {},
   "source": [
    "### Show the impact of changing the activation function\n",
    "\n",
    "To easily see the impact of changing the activation function, a python function is defined below to construct, compile, train, and score a model."
   ]
  },
  {
   "cell_type": "code",
   "execution_count": 34,
   "metadata": {},
   "outputs": [],
   "source": [
    "def runCNN(activation, verbose):\n",
    "\n",
    "  img_rows, img_cols = 28, 28\n",
    "  input_shape = (img_rows, img_cols, 1)\n",
    "  epochs = 1\n",
    "\n",
    "  # Build the CNN\n",
    "  model = Sequential()\n",
    "  \n",
    "  # Convolution Layer\n",
    "  model.add(Conv2D(64, kernel_size=(3, 3),\n",
    "                 activation=activation,\n",
    "                 input_shape = (28,28,1))) \n",
    "  \n",
    "  # Pooling with stride (2, 2)\n",
    "  model.add(MaxPooling2D(pool_size=(2, 2)))\n",
    "  \n",
    "  model.add(Conv2D(64, kernel_size=(3,3), activation = 'relu'))\n",
    "  model.add(MaxPooling2D(pool_size=(2,2)))\n",
    "\n",
    "  # Flatten layer\n",
    "  model.add(Flatten())\n",
    "  model.add(Dense(128, activation='relu'))\n",
    "\n",
    "   # Randomly delete 50% of neurons to avoid overfitting  \n",
    "  model.add(Dropout(0.5))\n",
    "  \n",
    "   # Apply softmax\n",
    "  model.add(Dense(num_classes, activation='softmax'))\n",
    " \n",
    "  # Loss function (crossentropy) and Optimizer (Adam)\n",
    "  model.compile(loss = losses.categorical_crossentropy,\n",
    "              optimizer = optimizers.Adam(),\n",
    "              metrics=['accuracy'])\n",
    " \n",
    "  # Train model\n",
    "  model.fit(x_train, y_train, \n",
    "                batch_size=batch_size, \n",
    "                epochs=epochs, verbose=0)\n",
    "\n",
    "  # Evaluate model\n",
    "  score = model.evaluate(x_test, y_test, verbose=0)\n",
    "  \n",
    "  # Return\n",
    "  return score"
   ]
  },
  {
   "cell_type": "code",
   "execution_count": 35,
   "metadata": {},
   "outputs": [
    {
     "name": "stdout",
     "output_type": "stream",
     "text": [
      "Sigmoid, Test loss: 0.9303598314285279\n",
      "Sigmoid, Test accuracy: 0.6787\n"
     ]
    }
   ],
   "source": [
    "# Sigmoid activation  \n",
    "\n",
    "score_sigmoid = runCNN('sigmoid', 0)\n",
    "print('Sigmoid, Test loss:', score_sigmoid[0])\n",
    "print('Sigmoid, Test accuracy:', score_sigmoid[1])\n"
   ]
  },
  {
   "cell_type": "code",
   "execution_count": 36,
   "metadata": {},
   "outputs": [
    {
     "name": "stdout",
     "output_type": "stream",
     "text": [
      "tanh, Test loss: 0.45320536828041075\n",
      "tanh, Test accuracy: 0.8308\n"
     ]
    }
   ],
   "source": [
    "# Tanh activation\n",
    "\n",
    "score_tanh = runCNN('tanh', 0)\n",
    "print('tanh, Test loss:', score_tanh[0])\n",
    "print('tanh, Test accuracy:', score_tanh[1])\n"
   ]
  },
  {
   "cell_type": "code",
   "execution_count": 38,
   "metadata": {},
   "outputs": [
    {
     "name": "stdout",
     "output_type": "stream",
     "text": [
      "ReLu, Test loss: 0.4590538826227188\n",
      "ReLu, Test accuracy: 0.8305\n"
     ]
    }
   ],
   "source": [
    "# Relu activation\n",
    "\n",
    "score_sigmoid = runCNN('relu', 0)\n",
    "print('ReLu, Test loss:', score_sigmoid[0])\n",
    "print('ReLu, Test accuracy:', score_sigmoid[1])\n"
   ]
  },
  {
   "cell_type": "code",
   "execution_count": 31,
   "metadata": {},
   "outputs": [],
   "source": []
  }
 ],
 "metadata": {
  "anaconda-cloud": {},
  "kernelspec": {
   "display_name": "Python 3",
   "language": "python",
   "name": "python3"
  },
  "language_info": {
   "codemirror_mode": {
    "name": "ipython",
    "version": 3
   },
   "file_extension": ".py",
   "mimetype": "text/x-python",
   "name": "python",
   "nbconvert_exporter": "python",
   "pygments_lexer": "ipython3",
   "version": "3.7.4"
  },
  "name": "FashionMNISTCNN",
  "notebookId": 2004262879760850
 },
 "nbformat": 4,
 "nbformat_minor": 4
}
